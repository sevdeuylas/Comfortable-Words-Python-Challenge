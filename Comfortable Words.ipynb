{
 "cells": [
  {
   "cell_type": "markdown",
   "metadata": {},
   "source": [
    "# #Comfortable Words\n",
    "## Task:\n",
    "## After finishing the task correctly, then submit your answer (code) as plain text which shows you did correctly.\n",
    "## Task : Find out if the given word is \"comfortable words\" in relation to the ten-finger keyboard use.\n",
    "\n",
    "## A comfortable word is a word which you can type always alternating the hand you type with (assuming you type using a Q-keyboard and use of the ten-fingers standard).\n",
    "## The word will always be a string consisting of only letters from a to z.\n",
    "## Write a program which returns True if it's a comfortable word or False otherwise."
   ]
  },
  {
   "cell_type": "code",
   "execution_count": 1,
   "metadata": {},
   "outputs": [
    {
     "name": "stdout",
     "output_type": "stream",
     "text": [
      "Please enter your word :jfhgdsfkla\n",
      "True (uses both hand fingers)\n"
     ]
    }
   ],
   "source": [
    "word = set(input('Please enter your word :').lower().strip())\n",
    "left_hand = set('qawsxzedcrfvtgb')\n",
    "right_hand = set('yhnujmikolp')\n",
    "word_left_hand = bool(word.intersection(left_hand))\n",
    "word_right_hand = bool( word.intersection(right_hand))\n",
    "word_check = bool(word_left_hand and word_right_hand)\n",
    "if word_check == True:\n",
    " print('True (uses both hand fingers)')\n",
    "else:\n",
    " if word_left_hand == True:\n",
    "  print('False (uses only left-hand fingers)')\n",
    " else:\n",
    "  print('False (uses only right-hand fingers)')"
   ]
  },
  {
   "cell_type": "code",
   "execution_count": 9,
   "metadata": {},
   "outputs": [
    {
     "name": "stdout",
     "output_type": "stream",
     "text": [
      "please enter any word:clarusway\n",
      "You are using only right hand to type.\n"
     ]
    }
   ],
   "source": [
    "left = set('qwertasdfgzxcvb')\n",
    "right = set('yuiophjklnm')\n",
    "left_hand = []\n",
    "right_hand = []\n",
    "word = input('Please enter any word:'.lower().strip())\n",
    "for i in word:\n",
    "    if i in left:\n",
    "        left_hand = True\n",
    "    else:\n",
    "        left_hand = False\n",
    "    if i in right:\n",
    "        right_hand = True\n",
    "    else: \n",
    "        right_hand = False\n",
    "if left_hand and right_hand == True:\n",
    "    print('Entered word is a \"comfortable word\".')\n",
    "else:\n",
    "    if left_hand == True:\n",
    "        print('You are usinf only left hand to type.')\n",
    "    else:\n",
    "        print('You are using only right hand to type.')\n",
    "        "
   ]
  },
  {
   "cell_type": "code",
   "execution_count": null,
   "metadata": {},
   "outputs": [],
   "source": []
  }
 ],
 "metadata": {
  "kernelspec": {
   "display_name": "Python 3",
   "language": "python",
   "name": "python3"
  },
  "language_info": {
   "codemirror_mode": {
    "name": "ipython",
    "version": 3
   },
   "file_extension": ".py",
   "mimetype": "text/x-python",
   "name": "python",
   "nbconvert_exporter": "python",
   "pygments_lexer": "ipython3",
   "version": "3.7.3"
  }
 },
 "nbformat": 4,
 "nbformat_minor": 2
}
